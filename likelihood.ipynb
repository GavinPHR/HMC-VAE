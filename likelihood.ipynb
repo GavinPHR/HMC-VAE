{
 "cells": [
  {
   "cell_type": "code",
   "execution_count": 1,
   "id": "c6f31de1",
   "metadata": {},
   "outputs": [],
   "source": [
    "%load_ext autoreload\n",
    "%autoreload 2"
   ]
  },
  {
   "cell_type": "code",
   "execution_count": 2,
   "id": "2fa0ed3c",
   "metadata": {},
   "outputs": [],
   "source": [
    "import matplotlib.pyplot as plt\n",
    "import numpy as np\n",
    "import torchvision\n",
    "import torch\n",
    "import torch.nn as nn\n",
    "from torch import optim\n",
    "from torch.utils.tensorboard import SummaryWriter\n",
    "from torch.utils.data import DataLoader\n",
    "import torch.distributions as D\n",
    "from tqdm import tqdm\n",
    "\n",
    "import image_dataset\n",
    "from hmc_vae import HMCVAE\n",
    "import utils\n",
    "device = torch.device(\"cuda\" if torch.cuda.is_available() else \"cpu\")"
   ]
  },
  {
   "cell_type": "markdown",
   "id": "fd65f7ee",
   "metadata": {},
   "source": [
    "### Training Data"
   ]
  },
  {
   "cell_type": "code",
   "execution_count": 4,
   "id": "d718bb3b",
   "metadata": {},
   "outputs": [],
   "source": [
    "train_dataset_in, _ = image_dataset.get('FashionMNIST', 'data')\n",
    "hidden_channels = 32\n",
    "in_channels = train_dataset_in.tensors[0].shape[1]\n",
    "train_dataloader_in = DataLoader(train_dataset_in, batch_size=100, shuffle=False)"
   ]
  },
  {
   "cell_type": "markdown",
   "id": "10598178",
   "metadata": {},
   "source": [
    "### Testing Data"
   ]
  },
  {
   "cell_type": "code",
   "execution_count": 5,
   "id": "c04bd562",
   "metadata": {},
   "outputs": [],
   "source": [
    "noise_dataset = torchvision.datasets.FakeData(size=5000, image_size=(in_channels, 32, 32), transform=torchvision.transforms.ToTensor())\n",
    "noise_dataloader = DataLoader(noise_dataset, batch_size=100, shuffle=False)\n",
    "_, FashionMNIST_dataset = image_dataset.get('FashionMNIST', 'data', 5000)\n",
    "FashionMNIST_dataloader = DataLoader(FashionMNIST_dataset, batch_size=100, shuffle=False)\n",
    "_, MNIST_dataset = image_dataset.get('MNIST', 'data', 5000)\n",
    "MNIST_dataloader = DataLoader(MNIST_dataset, batch_size=100, shuffle=False)"
   ]
  },
  {
   "cell_type": "markdown",
   "id": "c8f1bbe7",
   "metadata": {},
   "source": [
    "### Model"
   ]
  },
  {
   "cell_type": "code",
   "execution_count": 10,
   "id": "76b9a159",
   "metadata": {},
   "outputs": [
    {
     "data": {
      "text/plain": [
       "<All keys matched successfully>"
      ]
     },
     "execution_count": 10,
     "metadata": {},
     "output_type": "execute_result"
    }
   ],
   "source": [
    "model_path = \"logs/FashionMNIST_17h_21m_17_Jul_2022_seed42/\"\n",
    "\n",
    "model_variational = HMCVAE(in_channels, latent_dim=100, hidden_channels=hidden_channels, T=10, L=5).to(device)\n",
    "checkpoint = torch.load(model_path + \"variational\", map_location=device)\n",
    "model_variational.load_state_dict(checkpoint['model_state_dict'])\n",
    "\n",
    "model_hmc = HMCVAE(in_channels, latent_dim=100, hidden_channels=hidden_channels, T=10, L=5).to(device)\n",
    "checkpoint = torch.load(model_path + \"hmc_epoch10\", map_location=device)\n",
    "model_hmc.load_state_dict(checkpoint['model_state_dict'])"
   ]
  },
  {
   "cell_type": "markdown",
   "id": "6bc4b557",
   "metadata": {},
   "source": [
    "### Utilities"
   ]
  },
  {
   "cell_type": "code",
   "execution_count": 11,
   "id": "cc93662d",
   "metadata": {},
   "outputs": [],
   "source": [
    "from sklearn import metrics\n",
    "def plot(x1, x2=None):\n",
    "    if type(x1) is torch.Tensor:\n",
    "        x1 = x1.cpu().numpy()\n",
    "        x2 = x2.cpu().numpy()\n",
    "    plt.hist(x1, bins=50, alpha=0.4)\n",
    "    if x2 is not None:\n",
    "        plt.hist(x2, bins=50, alpha=0.4)\n",
    "    plt.show()\n",
    "\n",
    "def aucroc(score_in, score_out):\n",
    "    if type(score_in) is torch.Tensor:\n",
    "        score_in = score_in.cpu().numpy()\n",
    "        score_out = score_out.cpu().numpy()\n",
    "    ytrue = np.array([0]*len(score_in) + [1]*len(score_out))\n",
    "    yscore = np.concatenate([score_in, score_out])\n",
    "    fpr, tpr, thresholds = metrics.roc_curve(ytrue, yscore)\n",
    "    plt.plot(fpr, tpr)\n",
    "    return metrics.auc(fpr, tpr)"
   ]
  },
  {
   "cell_type": "markdown",
   "id": "9bda004a",
   "metadata": {},
   "source": [
    "### Forward pass"
   ]
  },
  {
   "cell_type": "code",
   "execution_count": 14,
   "id": "c4960599",
   "metadata": {},
   "outputs": [],
   "source": [
    "def forward(model, dataloader, hmc):\n",
    "    model.eval()\n",
    "    likelihood = []\n",
    "    entropy = []\n",
    "    with torch.no_grad():\n",
    "        for x, _ in tqdm(dataloader):\n",
    "            x = x.to(device)\n",
    "            pz = model.encode(x)\n",
    "            z = pz.rsample()\n",
    "            if hmc:\n",
    "                z, accept_prob = model.run_hmc(x, z)\n",
    "            x_logits = model.decode(z)\n",
    "            d = D.Categorical(logits=x_logits)\n",
    "            logp_x = d.log_prob(x.int()).sum(dim=(-1, -2, -3))\n",
    "            likelihood.append(logp_x)\n",
    "            entropy.append(d.entropy().sum(dim=(-1, -2, -3)))\n",
    "    return torch.cat(likelihood), torch.cat(entropy)"
   ]
  },
  {
   "cell_type": "code",
   "execution_count": 15,
   "id": "93d4a5ba",
   "metadata": {},
   "outputs": [
    {
     "name": "stderr",
     "output_type": "stream",
     "text": [
      "100%|██████████| 50/50 [00:29<00:00,  1.69it/s]\n"
     ]
    }
   ],
   "source": [
    "lik_var_in, ent_var_in = forward(model_variational, FashionMNIST_dataloader, False)\n",
    "lik1, ent1 = forward(model_variational, MNIST_dataloader, False)"
   ]
  },
  {
   "cell_type": "code",
   "execution_count": 16,
   "id": "dfa2de3d",
   "metadata": {},
   "outputs": [
    {
     "name": "stderr",
     "output_type": "stream",
     "text": [
      "100%|██████████| 50/50 [00:30<00:00,  1.63it/s]\n"
     ]
    }
   ],
   "source": []
  },
  {
   "cell_type": "code",
   "execution_count": 22,
   "id": "6572c8eb",
   "metadata": {},
   "outputs": [
    {
     "data": {
      "image/png": "[encoded data removed]",
      "text/plain": [
       "<Figure size 432x288 with 1 Axes>"
      ]
     },
     "metadata": {
      "needs_background": "light"
     },
     "output_type": "display_data"
    }
   ],
   "source": [
    "plot(lik, lik1)"
   ]
  },
  {
   "cell_type": "code",
   "execution_count": 24,
   "id": "e7738aed",
   "metadata": {},
   "outputs": [
    {
     "data": {
      "text/plain": [
       "0.14464672"
      ]
     },
     "execution_count": 24,
     "metadata": {},
     "output_type": "execute_result"
    },
    {
     "data": {
      "image/png": "[encoded data removed]",
      "text/plain": [
       "<Figure size 432x288 with 1 Axes>"
      ]
     },
     "metadata": {
      "needs_background": "light"
     },
     "output_type": "display_data"
    }
   ],
   "source": [
    "aucroc(-lik, -lik1)"
   ]
  },
  {
   "cell_type": "code",
   "execution_count": null,
   "id": "ff252294",
   "metadata": {},
   "outputs": [],
   "source": []
  }
 ],
 "metadata": {
  "kernelspec": {
   "display_name": "Python 3",
   "language": "python",
   "name": "python3"
  },
  "language_info": {
   "codemirror_mode": {
    "name": "ipython",
    "version": 3
   },
   "file_extension": ".py",
   "mimetype": "text/x-python",
   "name": "python",
   "nbconvert_exporter": "python",
   "pygments_lexer": "ipython3",
   "version": "3.9.4"
  }
 },
 "nbformat": 4,
 "nbformat_minor": 5
}
